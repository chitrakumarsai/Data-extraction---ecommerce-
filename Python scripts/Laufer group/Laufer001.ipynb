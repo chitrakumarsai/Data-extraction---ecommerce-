{
 "cells": [
  {
   "cell_type": "code",
   "execution_count": 79,
   "metadata": {},
   "outputs": [],
   "source": [
    "from selenium import webdriver\n",
    "import time"
   ]
  },
  {
   "cell_type": "code",
   "execution_count": 80,
   "metadata": {},
   "outputs": [],
   "source": [
    "driver = webdriver.Chrome()\n",
    "driver.maximize_window()"
   ]
  },
  {
   "cell_type": "code",
   "execution_count": 81,
   "metadata": {},
   "outputs": [],
   "source": [
    "URL = \"https://peerplus.laufer.com/PeerPlus/login\"\n",
    "driver.get (URL)"
   ]
  },
  {
   "cell_type": "code",
   "execution_count": 82,
   "metadata": {},
   "outputs": [],
   "source": [
    "driver.find_element_by_id(\"username\").send_keys(\"chitrav@cosmicpet.com\")\n",
    "driver.find_element_by_id (\"password\").send_keys(\"Akuti19eza!\")"
   ]
  },
  {
   "cell_type": "code",
   "execution_count": 83,
   "metadata": {},
   "outputs": [],
   "source": [
    "driver.find_element_by_id(\"loginSubmit\").click()\n",
    "time.sleep(5)"
   ]
  },
  {
   "cell_type": "code",
   "execution_count": 84,
   "metadata": {},
   "outputs": [],
   "source": [
    "dashboard_Xpath = \"/html/body/app-root/div/div/div/div/div/div/bookings-dashboard/pp-dashboard/div/div/div/pp-widget-column[1]/pp-widget[3]/div/div[2]/div/div/div[2]/bookings-ocean/div[1]/div/pp-grid/div[1]/div[3]/div/button[2]\"\n",
    "driver.find_element_by_xpath(dashboard_Xpath).click()\n",
    "time.sleep(5)\n",
    "driver.find_element_by_xpath(\"//*[@id='bs']/li[1]/a\").click()\n",
    "time.sleep(5)\n",
    "summary_ocean_activebooking_Xpath = \"/html/body/app-root/div/div/div/div/div/div/summary-ocean/pp-tab/div/div/div/div/div[2]/pp-grid/div[1]/div[2]/div/button[2]\"\n",
    "driver.find_element_by_xpath(summary_ocean_activebooking_Xpath).click()\n",
    "time.sleep(5)\n",
    "#air active bookings is None\n",
    "\n",
    "summary_ocean_activeshipment_Xpath = \"/html/body/app-root/div/div/div/div/div/div/summary-ocean/pp-tab/div/div/div/summary-ocean-activeshipments/div/div[2]/pp-grid/div[1]/div[2]/div/button\"\n",
    "driver.find_element_by_xpath(summary_ocean_activeshipment_Xpath).click()\n",
    "time.sleep(5)\n",
    "driver.find_element_by_xpath(\"//*[@id='bs']/li[2]/a\").click()\n",
    "time.sleep(5)\n",
    "summary_air_activeshipment_Xpath = \"/html/body/app-root/div/div/div/div/div/div/summary-air/pp-tab/div/div/div/summary-air-activeshipments/div/div[2]/pp-grid/div[1]/div[2]/div/button\"\n",
    "driver.find_element_by_xpath(summary_air_activeshipment_Xpath).click()\n",
    "time.sleep(5)\n",
    "driver.find_element_by_xpath(\"//*[@id='bs']/li[3]/a\").click()\n",
    "time.sleep(5)\n",
    "summary_bookings_ocean_Xpath =\"/html/body/app-root/div/div/div/div/div/div/bookings-locator/pp-tab/div/div/bookings-ocean/div[1]/div/pp-grid/div[1]/div[3]/div/button[2]\"\n",
    "driver.find_element_by_xpath(summary_bookings_ocean_Xpath).click()\n",
    "time.sleep(5)\n",
    "# #bookings_air is NONE\n",
    "driver.find_element_by_xpath(\"//*[@id='bs']/li[5]/a\").click()\n",
    "time.sleep(5)\n",
    "container_Xpath = \"/html/body/app-root/div/div/div/div/div/div/app-containers-header/pp-tab/div/div/app-containers-locator/div/div/pp-grid/div[1]/div/div/button\"\n",
    "driver.find_element_by_xpath(container_Xpath).click()\n",
    "time.sleep(5)\n",
    "driver.find_element_by_xpath(\"//*[@id='bs']/li[6]/a\").click()\n",
    "time.sleep(5)\n",
    "shipments_Xpath = \"/html/body/app-root/div/div/div/div/div/div/app-shipments-header/pp-tab/div/div/app-shipments-locator/div/div[1]/pp-grid/div[1]/div/div/button\"\n",
    "driver.find_element_by_xpath(shipments_Xpath).click()\n",
    "time.sleep(5)\n",
    "# # Documents and customer entry\n",
    "driver.find_element_by_xpath(\"//*[@id='pow']/li[1]/a\").click()\n",
    "time.sleep(5)\n",
    "PO_summary_Xpath = \"/html/body/app-root/div/div/div/div/div/div/app-posummary-header/pp-tab/div/div/posummary/div/div/pp-grid/div[1]/div/div/button\"\n",
    "driver.find_element_by_xpath(PO_summary_Xpath).click()\n",
    "time.sleep(5)\n",
    "# #EDI purchase order is NONE\n",
    "driver.find_element_by_xpath(\"//*[@id='isf']/li/a\").click()\n",
    "time.sleep(5)\n",
    "ISF_Xpath = \"/html/body/app-root/div/div/div/div/div/div/isf-filing-summary/pp-tab/div/div/div/div[3]/pp-grid/div[1]/div[3]/div/button\"\n",
    "driver.find_element_by_xpath(ISF_Xpath).click()\n",
    "time.sleep(5)"
   ]
  },
  {
   "cell_type": "code",
   "execution_count": 85,
   "metadata": {},
   "outputs": [],
   "source": [
    "###Shipment############\n",
    "driver.find_element_by_xpath(\"//*[@id='ds']/li/a\").click()\n",
    "time.sleep(5)\n",
    "driver.find_element_by_xpath(\"/html/body/app-root/div/div/div/div/div/div/bookings-dashboard/ul/li[2]/a\").click()\n",
    "time.sleep(5)\n",
    "Shipment_Xpath = \"/html/body/app-root/div/div/div/div/div/div/shipments-dashboard/pp-dashboard/div/div/div/pp-widget-column[1]/pp-widget/div/div[2]/div/div/div[2]/app-shipments-locator/div/div/pp-grid/div[1]/div/div/button\"\n",
    "driver.find_element_by_xpath(Shipment_Xpath).click()\n",
    "time.sleep(5)\n",
    "driver.find_element_by_xpath(\"/html/body/app-root/div/div/div/div/div/div/shipments-dashboard/ul/li[3]/a\").click()\n",
    "time.sleep(5)\n",
    "Container_Xpath = \"/html/body/app-root/div/div/div/div/div/div/containers-dashboard/pp-dashboard/div/div/div/pp-widget-column[1]/pp-widget[2]/div/div[2]/div/div/div[2]/app-containers-locator/div/div/pp-grid/div[1]/div/div/button\"\n",
    "driver.find_element_by_xpath(Container_Xpath).click()\n",
    "time.sleep(5)"
   ]
  },
  {
   "cell_type": "code",
   "execution_count": null,
   "metadata": {},
   "outputs": [],
   "source": []
  }
 ],
 "metadata": {
  "kernelspec": {
   "display_name": "Python 3",
   "language": "python",
   "name": "python3"
  },
  "language_info": {
   "codemirror_mode": {
    "name": "ipython",
    "version": 3
   },
   "file_extension": ".py",
   "mimetype": "text/x-python",
   "name": "python",
   "nbconvert_exporter": "python",
   "pygments_lexer": "ipython3",
   "version": "3.8.3"
  }
 },
 "nbformat": 4,
 "nbformat_minor": 4
}
