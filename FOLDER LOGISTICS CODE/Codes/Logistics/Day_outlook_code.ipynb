{
 "cells": [
  {
   "cell_type": "code",
   "execution_count": 1,
   "metadata": {},
   "outputs": [],
   "source": [
    "import win32com.client\n",
    "import os\n",
    "import time\n",
    "import schedule\n",
    "import datetime as dt\n",
    "def outlook_scrap():\n",
    "    mydesktop = os.path.expanduser('~') + '/Dropbox (Cosmic Pet-Business)/'\n",
    "    outlook = win32com.client.Dispatch(\"Outlook.Application\").GetNamespace(\"MAPI\")\n",
    "\n",
    "\n",
    "#     setup range for outlook to search emails (so we don't go through the entire inbox)\n",
    "    lastWeekDateTime = dt.datetime.now() - dt.timedelta(days = 1)\n",
    "    lastWeekDateTime = lastWeekDateTime.strftime('%m/%d/%Y %H:%M %p')\n",
    "\n",
    "    # Select main Inbox\n",
    "\n",
    "    \n",
    "    inbox = outlook.Folders['Logistics'].Folders['inbox']\n",
    "\n",
    "    print(inbox)\n",
    "    # Optional:  Select main Inbox, look in subfolder \"Test\"\n",
    "    #inbox = outlook.GetDefaultFolder(6).Folders[\"Test\"]\n",
    "\n",
    "    messages = inbox.Items\n",
    "\n",
    "#     # Only search emails in the time range above:\n",
    "    messages = messages.Restrict(\"[ReceivedTime] >= '\" + lastWeekDateTime +\"'\")\n",
    "\n",
    "    print ('Reading Inbox, including Inbox Subfolders...')\n",
    "\n",
    "    # Download a select attachment ---------------------------------------\n",
    "    # Create a folder to capture attachments.\n",
    "    Myfolder = mydesktop + 'Cosmic - Reporting/Processes/Chitra_Working/Logistics/Data/'\n",
    "    if not os.path.exists(Myfolder): os.makedirs(Myfolder)\n",
    "\n",
    "    try:\n",
    "        for message in list(messages):\n",
    "            try:\n",
    "                s = message.sender\n",
    "                s = str(s)\n",
    "                print('Sender:' , message.sender)\n",
    "                for att in message.Attachments:\n",
    "                    # Give each attachment a path and filename\n",
    "                    outfile_name1 = Myfolder + att.FileName \n",
    "                    # save file \n",
    "                    att.SaveASFile(outfile_name1)\n",
    "                    print('Saved file:', outfile_name1)\n",
    "\n",
    "            except Exception as e:\n",
    "                print(\"type error: \" + str(e))\n",
    "                x=1\n",
    "\n",
    "    except Exception as e:\n",
    "        print(\"type error: \" + str(e))\n",
    "        x=1\n",
    "\n",
    "    #Delete unused file types (like .png)-----------------------------------------\n",
    "\n",
    "    test = os.listdir(Myfolder)\n",
    "\n",
    "    for item in test:\n",
    "        if item.endswith(\".png\") or item.endswith(\".jpg\") or item.endswith('.TIF') or item.endswith(\".htm\") :\n",
    "            os.remove(os.path.join(Myfolder, item))"
   ]
  },
  {
   "cell_type": "code",
   "execution_count": 2,
   "metadata": {},
   "outputs": [
    {
     "data": {
      "text/plain": [
       "Every 1 day at 08:30:00 do outlook_scrap() (last run: [never], next run: 2020-11-10 08:30:00)"
      ]
     },
     "execution_count": 2,
     "metadata": {},
     "output_type": "execute_result"
    }
   ],
   "source": [
    "schedule.every().day.at(\"08:30\").do(outlook_scrap)"
   ]
  },
  {
   "cell_type": "code",
   "execution_count": null,
   "metadata": {},
   "outputs": [],
   "source": [
    "while True: \n",
    "    schedule.run_pending() \n",
    "    time.sleep(1)"
   ]
  },
  {
   "cell_type": "code",
   "execution_count": null,
   "metadata": {},
   "outputs": [],
   "source": []
  }
 ],
 "metadata": {
  "kernelspec": {
   "display_name": "Python 3",
   "language": "python",
   "name": "python3"
  },
  "language_info": {
   "codemirror_mode": {
    "name": "ipython",
    "version": 3
   },
   "file_extension": ".py",
   "mimetype": "text/x-python",
   "name": "python",
   "nbconvert_exporter": "python",
   "pygments_lexer": "ipython3",
   "version": "3.8.3"
  }
 },
 "nbformat": 4,
 "nbformat_minor": 4
}
