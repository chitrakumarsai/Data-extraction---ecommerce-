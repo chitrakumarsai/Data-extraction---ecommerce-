{
 "cells": [
  {
   "cell_type": "code",
   "execution_count": 6,
   "metadata": {},
   "outputs": [],
   "source": [
    "import sys\n",
    "import os,os.path\n",
    "import comtypes.client\n",
    "import glob\n",
    "import os\n",
    "import time\n",
    "import re\n",
    "import shutil\n",
    "from re import search\n",
    "import win32com.client as win32\n",
    "import schedule\n",
    "import datetime as dt\n",
    "import win32com.client\n",
    "import os.path\n",
    "from os import path"
   ]
  },
  {
   "cell_type": "code",
   "execution_count": 10,
   "metadata": {},
   "outputs": [
    {
     "name": "stdout",
     "output_type": "stream",
     "text": [
      "Activity_by_Destination_Report_20210103\n",
      "CSMln20210104-B091217C INVOICE\n",
      "CSMln20210104-B091217C PACKING\n"
     ]
    }
   ],
   "source": [
    "input_dir = 'C:\\\\Users\\\\ChitraVenkata\\\\Dropbox (Cosmic Pet-Business)\\\\Cosmic - Reporting\\\\Processes\\\\Chitra_Working\\\\Logistics\\\\Codes\\\\Logistics\\\\excel'\n",
    "output_dir = 'C:\\\\Users\\\\ChitraVenkata\\\\Dropbox (Cosmic Pet-Business)\\\\Cosmic - Logistics Documents\\\\New Documents\\\\'\n",
    "\n",
    "for subdir, dirs, files in os.walk(input_dir):\n",
    "    for file in files:\n",
    "        if os.path.getmtime(input_dir+'\\\\'+ file) < time.time() - 2 * 24 * 60 * 60:\n",
    "            continue\n",
    "        else:\n",
    "            in_file = os.path.join(subdir, file)\n",
    "            output_file = file.split('.')[0]\n",
    "            print(output_file)\n",
    "#             if output_dir.exists(output_file+'.pdf'):\n",
    "#                 continue\n",
    "            out_file = output_dir+output_file+'.pdf'\n",
    "            excel = comtypes.client.CreateObject('Excel.Application')\n",
    "            doc = excel.Workbooks.Open(in_file)\n",
    "            try:\n",
    "                doc.SaveAs(out_file, FileFormat=57)\n",
    "            except Exception as e:\n",
    "                print(\"Failed to convert\")\n",
    "                print(str(e))\n",
    "            finally:\n",
    "                doc.Close()\n",
    "                excel.Quit()"
   ]
  },
  {
   "cell_type": "code",
   "execution_count": null,
   "metadata": {},
   "outputs": [],
   "source": []
  }
 ],
 "metadata": {
  "kernelspec": {
   "display_name": "Python 3",
   "language": "python",
   "name": "python3"
  },
  "language_info": {
   "codemirror_mode": {
    "name": "ipython",
    "version": 3
   },
   "file_extension": ".py",
   "mimetype": "text/x-python",
   "name": "python",
   "nbconvert_exporter": "python",
   "pygments_lexer": "ipython3",
   "version": "3.8.3"
  }
 },
 "nbformat": 4,
 "nbformat_minor": 4
}
